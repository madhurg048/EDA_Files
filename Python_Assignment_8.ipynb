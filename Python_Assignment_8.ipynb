{
 "cells": [
  {
   "cell_type": "code",
   "execution_count": null,
   "id": "c68bc39e-a64e-43aa-9d84-8f41127e75af",
   "metadata": {},
   "outputs": [],
   "source": [
    "# Q1) Print the postive index of each letter\n",
    "# Q2) Print the negative index of each letter\n",
    "# Q3) Print the postive and negative index of each letter\n",
    "# Q4) Wap ask to print the index of all 'a'  in a given string\n",
    "# Q5) Wap ask to print the number of 'a's  in a given string\n",
    "# Q6) Wap ask to print the sum of the index of all 'a'  in a given string\n",
    "# Q7) Wap to find the vowels in a given string\n",
    "# Q8) wap to find the number of vowels in a given string\n",
    "# Q9) wap to find the indexes of vowels in a given string\n",
    "# Q10) wap to find the sum of the indexes of vowels in a given string\n",
    "# Q11) wap to find the unique vowels in a given string"
   ]
  },
  {
   "cell_type": "code",
   "execution_count": 9,
   "id": "6299c923-8b5c-4dcc-81ed-9d8d994f2a9e",
   "metadata": {},
   "outputs": [
    {
     "name": "stdout",
     "output_type": "stream",
     "text": [
      "The positive index of h is 0\n",
      "The positive index of e is 1\n",
      "The positive index of l is 2\n",
      "The positive index of l is 3\n",
      "The positive index of o is 4\n",
      "The positive index of   is 5\n",
      "The positive index of n is 6\n",
      "The positive index of a is 7\n",
      "The positive index of r is 8\n",
      "The positive index of e is 9\n",
      "The positive index of s is 10\n",
      "The positive index of h is 11\n",
      "The positive index of   is 12\n",
      "The positive index of i is 13\n",
      "The positive index of t is 14\n"
     ]
    }
   ],
   "source": [
    "# Q1) Print the postive index of each letter\n",
    "\n",
    "str1 = 'hello naresh it'\n",
    "n = len(str1)\n",
    "for i in range(n):\n",
    "    print(f\"The positive index of {str1[i]} is {i}\")"
   ]
  },
  {
   "cell_type": "code",
   "execution_count": 12,
   "id": "bab87945-19f6-4ee9-8582-997f534db183",
   "metadata": {},
   "outputs": [
    {
     "name": "stdout",
     "output_type": "stream",
     "text": [
      "The negative index of h is -15\n",
      "The negative index of e is -14\n",
      "The negative index of l is -13\n",
      "The negative index of l is -12\n",
      "The negative index of o is -11\n",
      "The negative index of   is -10\n",
      "The negative index of n is -9\n",
      "The negative index of a is -8\n",
      "The negative index of r is -7\n",
      "The negative index of e is -6\n",
      "The negative index of s is -5\n",
      "The negative index of h is -4\n",
      "The negative index of   is -3\n",
      "The negative index of i is -2\n",
      "The negative index of t is -1\n"
     ]
    }
   ],
   "source": [
    "# Q2) Print the negative index of each letter\n",
    "\n",
    "str1 = 'hello naresh it'\n",
    "n = len(str1)\n",
    "for i in range(-n,0):\n",
    "    print(f\"The negative index of {str1[i]} is {i}\")"
   ]
  },
  {
   "cell_type": "code",
   "execution_count": 16,
   "id": "6c1d88df-d1bd-43d1-b202-83fceeadf6f9",
   "metadata": {},
   "outputs": [
    {
     "name": "stdout",
     "output_type": "stream",
     "text": [
      "The postive index of h is 0 and negative index of h is -15\n",
      "The postive index of e is 1 and negative index of e is -14\n",
      "The postive index of l is 2 and negative index of l is -13\n",
      "The postive index of l is 3 and negative index of l is -12\n",
      "The postive index of o is 4 and negative index of o is -11\n",
      "The postive index of   is 5 and negative index of   is -10\n",
      "The postive index of n is 6 and negative index of n is -9\n",
      "The postive index of a is 7 and negative index of a is -8\n",
      "The postive index of r is 8 and negative index of r is -7\n",
      "The postive index of e is 9 and negative index of e is -6\n",
      "The postive index of s is 10 and negative index of s is -5\n",
      "The postive index of h is 11 and negative index of h is -4\n",
      "The postive index of   is 12 and negative index of   is -3\n",
      "The postive index of i is 13 and negative index of i is -2\n",
      "The postive index of t is 14 and negative index of t is -1\n"
     ]
    }
   ],
   "source": [
    "# Q3) Print the postive and negative index of each letter\n",
    "\n",
    "str1 = 'hello naresh it'\n",
    "n = len(str1)\n",
    "for i in range(n):\n",
    "    print(f\"The postive index of {str1[i]} is {i} and negative index of {str1[i]} is {i-n}\")"
   ]
  },
  {
   "cell_type": "code",
   "execution_count": 25,
   "id": "46a90e6f-a457-4270-b96d-cc76c8a254f9",
   "metadata": {},
   "outputs": [
    {
     "name": "stdout",
     "output_type": "stream",
     "text": [
      "The index of 1 occurnece of 'a' is 2\n",
      "The index of 2 occurnece of 'a' is 5\n",
      "The index of 3 occurnece of 'a' is 7\n",
      "The index of 4 occurnece of 'a' is 10\n"
     ]
    }
   ],
   "source": [
    "# Q4) Wap ask to print the index of all 'a'  in a given string\n",
    "count = 0\n",
    "str2 = 'I am available'\n",
    "n= len(str2)\n",
    "for i in range(n):\n",
    "    if str2[i] == 'a':\n",
    "        count = count + 1\n",
    "        print(f\"The index of {count} occurnece of 'a' is {i}\")"
   ]
  },
  {
   "cell_type": "code",
   "execution_count": 73,
   "id": "99e5adfd-d136-423e-a134-0a52eb7f56ba",
   "metadata": {},
   "outputs": [
    {
     "name": "stdout",
     "output_type": "stream",
     "text": [
      "The number of 'a's in given string is 4\n"
     ]
    }
   ],
   "source": [
    "# Q5) Wap ask to print the number of 'a's  in a given string\n",
    "\n",
    "count = 0\n",
    "str2 = 'i am available'\n",
    "n=len(str2)\n",
    "for i in range(n):\n",
    "    if str2[i] == 'a':\n",
    "        count = count + 1\n",
    "\n",
    "print(f\"The number of 'a's in given string is {count}\")"
   ]
  },
  {
   "cell_type": "code",
   "execution_count": 72,
   "id": "1d570ab5-af1c-4b80-958f-197f8246daa5",
   "metadata": {},
   "outputs": [
    {
     "name": "stdout",
     "output_type": "stream",
     "text": [
      "The sum of index of all 'a' in given string is 24\n"
     ]
    }
   ],
   "source": [
    "# Q6) Wap ask to print the sum of the index of all 'a'  in a given string\n",
    "\n",
    "summ = 0\n",
    "str2 = 'i am available'\n",
    "n= len(str2)\n",
    "for i in range(n):\n",
    "    if str2[i] == 'a':\n",
    "        summ = summ + i\n",
    "        \n",
    "print(f\"The sum of index of all 'a' in given string is {summ}\")"
   ]
  },
  {
   "cell_type": "code",
   "execution_count": 56,
   "id": "3d8e710f-fb44-4ca1-ba6c-ddec4d0e11d1",
   "metadata": {},
   "outputs": [
    {
     "name": "stdout",
     "output_type": "stream",
     "text": [
      "The vowels in a given string are: e\n",
      "The vowels in a given string are: o\n",
      "The vowels in a given string are: a\n",
      "The vowels in a given string are: e\n",
      "The vowels in a given string are: i\n"
     ]
    }
   ],
   "source": [
    "# Q7) Wap to find the vowels in a given string\n",
    "\n",
    "str1 = 'hello nareshit'\n",
    "vowels = 'aeiou'\n",
    "n = len(str1)\n",
    "for i in range(n):\n",
    "    if str1[i] in vowels:\n",
    "        print(f\"The vowels in a given string are: {str1[i]}\")\n",
    "            \n"
   ]
  },
  {
   "cell_type": "code",
   "execution_count": 58,
   "id": "d1247c10-ec02-4957-8dab-a6ae2f22e2a1",
   "metadata": {},
   "outputs": [
    {
     "name": "stdout",
     "output_type": "stream",
     "text": [
      "The number of vowels in a given string are: 5\n"
     ]
    }
   ],
   "source": [
    "# Q8) wap to find the number of vowels in a given string\n",
    "\n",
    "count = 0\n",
    "str1 = 'hello nareshit'\n",
    "vowels = 'aeiou'\n",
    "n = len(str1)\n",
    "for i in range(n):\n",
    "    if str1[i] in vowels:\n",
    "        count = count + 1\n",
    "\n",
    "print(f\"The number of vowels in a given string are: {count}\")"
   ]
  },
  {
   "cell_type": "code",
   "execution_count": 66,
   "id": "5cd7fd8b-3667-4d1b-a78c-636ba1f54a56",
   "metadata": {},
   "outputs": [
    {
     "name": "stdout",
     "output_type": "stream",
     "text": [
      "The index of e is 1\n",
      "The index of o is 4\n",
      "The index of a is 7\n",
      "The index of e is 9\n",
      "The index of i is 12\n"
     ]
    }
   ],
   "source": [
    "# Q9) wap to find the indexes of vowels in a given string\n",
    "\n",
    "\n",
    "str1 = 'hello nareshit'\n",
    "vowels = 'aeiou'\n",
    "n = len(str1)\n",
    "for i in range(n):\n",
    "    if str1[i] in vowels:\n",
    "        print(f\"The index of {str1[i]} is {i}\")"
   ]
  },
  {
   "cell_type": "code",
   "execution_count": 69,
   "id": "da13da5d-e52b-45f1-a991-b9570b0ecbc4",
   "metadata": {},
   "outputs": [
    {
     "name": "stdout",
     "output_type": "stream",
     "text": [
      "The index of e is 1\n",
      "The index of o is 4\n",
      "The index of a is 7\n",
      "The index of e is 9\n",
      "The index of i is 12\n",
      "The sum of the indexes of the vowels is: 33\n"
     ]
    }
   ],
   "source": [
    "# Q10) wap to find the sum of the indexes of vowels in a given string\n",
    "\n",
    "summ = 0\n",
    "str1 = 'hello nareshit'\n",
    "vowels = 'aeiou'\n",
    "n = len(str1)\n",
    "for i in range(n):\n",
    "    if str1[i] in vowels:\n",
    "        summ = summ + i\n",
    "        print(f\"The index of {str1[i]} is {i}\")\n",
    "\n",
    "print(f\"The sum of the indexes of the vowels is: {summ}\")"
   ]
  },
  {
   "cell_type": "code",
   "execution_count": 6,
   "id": "81c2ba9d-5ce9-4bd1-927d-90648f29a4fa",
   "metadata": {},
   "outputs": [
    {
     "name": "stdout",
     "output_type": "stream",
     "text": [
      "The unique vowels in given string are: iae\n"
     ]
    }
   ],
   "source": [
    "# Q11) wap to find the unique vowels in a given string\n",
    "\n",
    "str2 = 'i am available'\n",
    "def unique():\n",
    "    vowel = 'aeiou'\n",
    "    unique_vowel = ''\n",
    "    for i in str2:\n",
    "        if i in vowel and i not in unique_vowel:\n",
    "            unique_vowel = unique_vowel + i\n",
    "    return unique_vowel\n",
    "    \n",
    "result = unique()\n",
    "print(\"The unique vowels in given string are:\",result)\n"
   ]
  },
  {
   "cell_type": "code",
   "execution_count": 7,
   "id": "8b555593-7be0-452b-86f6-ee8149e93911",
   "metadata": {},
   "outputs": [
    {
     "name": "stdout",
     "output_type": "stream",
     "text": [
      "iaaaiae\n",
      "e\n"
     ]
    }
   ],
   "source": [
    "str2 = 'i am available'\n",
    "s=\"\"\n",
    "for i in str2:\n",
    "    if i in \"aeiou\":\n",
    "        s+=i\n",
    "print(s)\n",
    "unique_vowel=\"\"\n",
    "for j in range(len(s)):\n",
    "    if s.count(s[j])==1:\n",
    "        unique_vowel+=s[j]\n",
    "print(unique_vowel)\n",
    "        "
   ]
  },
  {
   "cell_type": "code",
   "execution_count": 1,
   "id": "e374439f-4add-4e2c-9878-b04ad5799a25",
   "metadata": {},
   "outputs": [
    {
     "name": "stdout",
     "output_type": "stream",
     "text": [
      "Number of occurrences of 'ola': 3\n"
     ]
    }
   ],
   "source": [
    "str = 'ola ola ola'\n",
    "substring = 'ola'\n",
    "count = 0\n",
    "length = len(substring)\n",
    "for i in range(len(str) - length + 1):\n",
    "    if str[i:i+length] == substring:\n",
    "        count += 1\n",
    "\n",
    "print(\"Number of occurrences of 'ola':\", count)\n"
   ]
  },
  {
   "cell_type": "markdown",
   "id": "97822334-3164-4895-b716-dfadeb4491da",
   "metadata": {},
   "source": [
    "- *\n",
    "- **\n",
    "***\n",
    "****\n",
    "*****"
   ]
  },
  {
   "cell_type": "code",
   "execution_count": 15,
   "id": "edf1ec15-0001-4b45-9fd0-5a879b6c1c2b",
   "metadata": {},
   "outputs": [
    {
     "name": "stdout",
     "output_type": "stream",
     "text": [
      "* \n",
      "\n",
      "* * \n",
      "\n",
      "* * * \n",
      "\n",
      "* * * * \n",
      "\n",
      "* * * * * \n",
      "\n"
     ]
    }
   ],
   "source": [
    "i = \"*\"\n",
    "n = 5\n",
    "for j in range(n):\n",
    "    k = 0\n",
    "    for k in range(j+1):\n",
    "        print(i,end=' ')\n",
    "        k = k + 1\n",
    "    print(\"\\n\")\n",
    "    j = j + 1\n",
    "    \n"
   ]
  },
  {
   "cell_type": "code",
   "execution_count": 17,
   "id": "8c1d7719-ea2c-44d2-87c7-f82b8bec29be",
   "metadata": {},
   "outputs": [
    {
     "name": "stdout",
     "output_type": "stream",
     "text": [
      "1 \n",
      "\n",
      "1 2 \n",
      "\n",
      "1 2 3 \n",
      "\n",
      "1 2 3 4 \n",
      "\n",
      "1 2 3 4 5 \n",
      "\n"
     ]
    }
   ],
   "source": [
    "n = 5\n",
    "for j in range(n):\n",
    "    k = 0\n",
    "    for k in range(j+1):\n",
    "        print(k+1,end=' ')\n",
    "        k = k + 1\n",
    "    print(\"\\n\")\n",
    "    j = j + 1\n",
    "    \n"
   ]
  },
  {
   "cell_type": "code",
   "execution_count": null,
   "id": "1dbaa6c1-b031-4436-a81f-116151913185",
   "metadata": {},
   "outputs": [],
   "source": [
    "l = ['apple','cat','dog','ball']\n",
    "# sort it without using sort method\n",
    "\n",
    "l = [10,15,2,25.89]\n",
    "# find the maximum word find the minimum word\n",
    "\n",
    "l1 = [1,2,3,4]\n",
    "l2 = [10,20,30,40]\n",
    "out= [11,22,33,44]\n",
    "\n",
    "\n",
    "l1 = [1,2,3,4]\n",
    "l2 = [10,20,30,40]\n",
    "out= [11,22,33,44,5]\n",
    "\n",
    "\n",
    "s = 'hello how are you im good at python in naresh it'\n",
    "#find the maximum word\n",
    "#find the minimum word\n",
    "#find the most repeated word\n"
   ]
  }
 ],
 "metadata": {
  "kernelspec": {
   "display_name": "Python 3 (ipykernel)",
   "language": "python",
   "name": "python3"
  },
  "language_info": {
   "codemirror_mode": {
    "name": "ipython",
    "version": 3
   },
   "file_extension": ".py",
   "mimetype": "text/x-python",
   "name": "python",
   "nbconvert_exporter": "python",
   "pygments_lexer": "ipython3",
   "version": "3.11.7"
  }
 },
 "nbformat": 4,
 "nbformat_minor": 5
}
